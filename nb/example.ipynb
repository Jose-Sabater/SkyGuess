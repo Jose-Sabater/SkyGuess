{
 "cells": [
  {
   "cell_type": "code",
   "execution_count": null,
   "metadata": {},
   "outputs": [],
   "source": [
    "from FlightRadar24 import FlightRadar24API\n",
    "from dotenv import load_dotenv\n",
    "import os\n",
    "import math\n",
    "import matplotlib.pyplot as plt\n",
    "from mpl_toolkits.basemap import Basemap"
   ]
  },
  {
   "cell_type": "code",
   "execution_count": null,
   "metadata": {},
   "outputs": [],
   "source": [
    "load_dotenv()"
   ]
  },
  {
   "cell_type": "code",
   "execution_count": null,
   "metadata": {},
   "outputs": [],
   "source": [
    "fr_api = FlightRadar24API(user=os.getenv(\"fr_uname\"), password=os.getenv(\"fr_pwd\"))"
   ]
  },
  {
   "cell_type": "code",
   "execution_count": null,
   "metadata": {},
   "outputs": [],
   "source": [
    "#Possible methods\n",
    "fr_api.get_airlines()\n",
    "fr_api.get_airports()\n",
    "fr_api.set_flight_tracker_config()\n",
    "flights_ibe = fr_api.get_flights(airline = \"IBE\") # Example searching for iberia\n",
    "flights = fr_api.get_flight_details(flights_ibe[1])\n",
    "flights[\"trail\"]\n"
   ]
  },
  {
   "cell_type": "code",
   "execution_count": null,
   "metadata": {},
   "outputs": [],
   "source": [
    "flight_data = flights[\"trail\"]\n",
    "\n",
    "# Extracting latitude and longitude from the data\n",
    "lats = [point['lat'] for point in flight_data]\n",
    "lngs = [point['lng'] for point in flight_data]\n",
    "\n",
    "# Creating a Basemap instance\n",
    "plt.figure(figsize=(12, 6))\n",
    "world_map = Basemap(projection='robin', lat_0=0, lon_0=0, resolution='c')\n",
    "\n",
    "# Converting lat and lon to map projection coordinates for the world map\n",
    "x_world, y_world = world_map(lngs, lats)\n",
    "\n",
    "# Plotting the points on the world map\n",
    "world_map.plot(x_world, y_world, marker='o', markersize=5, color='b', linewidth=2)\n",
    "world_map.scatter(x_world, y_world, marker='o', color='r', zorder=5)\n",
    "world_map.drawcoastlines()\n",
    "world_map.drawcountries()\n",
    "world_map.fillcontinents(color='lightgray',lake_color='aqua')\n",
    "world_map.drawmapboundary(fill_color='aqua')\n",
    "\n",
    "# Adding title and showing the plot\n",
    "plt.title('Flight Path on World Map')\n",
    "plt.show()\n",
    "# Creating plots with Orthographic and Mollweide projections as alternative\n"
   ]
  },
  {
   "cell_type": "markdown",
   "metadata": {},
   "source": [
    "# Example for our project"
   ]
  },
  {
   "cell_type": "code",
   "execution_count": null,
   "metadata": {},
   "outputs": [],
   "source": [
    "from ipyleaflet import Map, Marker, basemaps, basemap_to_tiles, Popup, Polygon\n",
    "from ipywidgets import HTML"
   ]
  },
  {
   "cell_type": "code",
   "execution_count": null,
   "metadata": {},
   "outputs": [],
   "source": [
    "class Coord:\n",
    "    \"\"\"Class to handle coordinates in EPSG:3857\"\"\"\n",
    "    def __init__(self, lat:float, long:float ):\n",
    "        \"\"\"Initializes the class with some coordinates in EPSG:3857\"\"\"\"\"\n",
    "        self.long = long\n",
    "        self.lat = lat\n",
    "    \n",
    "    # def build_rectangle(self, degrees:float=0.6):\n",
    "    #     self.two_points = self._get_api_2_points()\n",
    "    #     self.corners = self._get_corners()\n",
    "        \n",
    "    def get_api_2_points(self, degrees: float = 0.6) -> str:\n",
    "        \"\"\" Returns coordinates in the format y1,y2,x1,x2 as per the API \"\"\"\n",
    "        # lat_wgs84, long_wgs84 = self.to_wgs84()\n",
    "        # y1 = lat_wgs84 + degrees / 2\n",
    "        # y2 = lat_wgs84 - degrees / 2\n",
    "        # x1 = long_wgs84 + degrees / 2\n",
    "        # x2 = long_wgs84 - degrees / 2\n",
    "        y1 = self.lat + degrees / 4\n",
    "        y2 = self.lat - degrees / 4\n",
    "        x1 = self.long - degrees / 2\n",
    "        x2 = self.long + degrees / 2\n",
    "        return f\"{y1},{y2},{x1},{x2}\"\n",
    "    \n",
    "    def get_corners(self, degrees:float=0.6)-> list[float]:\n",
    "        \"\"\"Returns a list of tuples containing the corners of the rectangle\"\"\"\n",
    "        # Calculate the corners of the rectangle\n",
    "        top_left = (self.lat + degrees/4, self.long - degrees/2)\n",
    "        top_right = (self.lat + degrees/4, self.long + degrees/2)\n",
    "        bottom_left = (self.lat - degrees/4, self.long - degrees/2)\n",
    "        bottom_right = (self.lat - degrees/4, self.long + degrees/2)\n",
    "        \n",
    "        # Return the corners as a list of tuples\n",
    "        return [top_left, top_right, bottom_right, bottom_left]\n",
    "\n",
    "    def _to_wgs84(self):\n",
    "        \"\"\" Conversion from EPSG:3857 to EPSG:4326 \"\"\"\n",
    "        x = self.long\n",
    "        y = self.lat\n",
    "        lon = x / 20037508.34 * 180.0\n",
    "        lat = y / 20037508.34 * 180.0\n",
    "        lat = 180 / math.pi * (2 * math.atan(math.exp(lat * math.pi / 180)) - math.pi / 2)\n",
    "\n",
    "        return lat, lon"
   ]
  },
  {
   "cell_type": "markdown",
   "metadata": {},
   "source": [
    "## Description\n",
    "What we do is click on the map to select a point. This simulates finding a location.  \n",
    "We then build a bounding box surrounding this point (default 0.6 degrees side length in longitude)"
   ]
  },
  {
   "cell_type": "code",
   "execution_count": null,
   "metadata": {},
   "outputs": [],
   "source": [
    "def handle_click(**kwargs):\n",
    "    global current_marker\n",
    "    global current_square\n",
    "    global coordinates\n",
    "    if kwargs.get('type') == 'click':\n",
    "        coords = kwargs.get('coordinates')\n",
    "        print(f\"Clicked coordinates: {coords}\")\n",
    "\n",
    "        # Remove the current marker if it exists\n",
    "        if current_marker is not None:\n",
    "            m.remove_layer(current_marker)\n",
    "\n",
    "        # Remove the current square if it exists\n",
    "        if current_square is not None:\n",
    "            m.remove_layer(current_square)\n",
    "        html = HTML()\n",
    "        html.value = f\"Lat, Long: {coords[0]:.5f}, {coords[1]:.5f}\"\n",
    "        # Create and add a new marker\n",
    "        new_marker = Marker(location=coords)\n",
    "        current_marker = new_marker\n",
    "        popup = Popup(location=coords, child=html, close_button=False, auto_close=False, close_on_escape_key=False)\n",
    "        current_marker.popup = popup\n",
    "        m.add_layer(current_marker)\n",
    "\n",
    "        # Logic for creating and adding a square\n",
    "        coordinates = Coord(coords[0], coords[1])\n",
    "        corners =  coordinates.get_corners(degrees=0.4) # Assuming this function returns the correct corners\n",
    "        square = Polygon(\n",
    "            locations=corners,\n",
    "            color=\"green\",\n",
    "            fill_color=\"green\"\n",
    "        )\n",
    "        current_square = square\n",
    "        m.add_layer(current_square)"
   ]
  },
  {
   "cell_type": "code",
   "execution_count": null,
   "metadata": {},
   "outputs": [],
   "source": [
    "current_marker = None\n",
    "current_square = None\n",
    "coordinates = None\n",
    "\n",
    "m = Map(\n",
    "    basemap=basemap_to_tiles(basemaps.CartoDB.Positron, day=\"today\"),\n",
    "    center=(59.3, 18),\n",
    "    zoom=8\n",
    ")\n",
    "\n",
    "# Add click event listener to the map\n",
    "m.on_interaction(handle_click)\n",
    "\n",
    "# Display the map\n",
    "m"
   ]
  },
  {
   "cell_type": "code",
   "execution_count": null,
   "metadata": {},
   "outputs": [],
   "source": [
    "# We take the selected coordinate\n",
    "coord = coordinates.get_api_2_points(degrees=1)\n",
    "coord"
   ]
  },
  {
   "cell_type": "code",
   "execution_count": null,
   "metadata": {},
   "outputs": [],
   "source": [
    "flights = fr_api.get_flights(bounds=coord)"
   ]
  },
  {
   "cell_type": "code",
   "execution_count": null,
   "metadata": {},
   "outputs": [],
   "source": [
    "flights"
   ]
  },
  {
   "cell_type": "code",
   "execution_count": null,
   "metadata": {},
   "outputs": [],
   "source": [
    "flight_details =[]\n",
    "for i,flight in enumerate(flights):\n",
    "    _details = fr_api.get_flight_details(flight)\n",
    "    flight_details.append(_details)\n",
    "    "
   ]
  },
  {
   "cell_type": "code",
   "execution_count": null,
   "metadata": {},
   "outputs": [],
   "source": [
    "flight_details[0]"
   ]
  },
  {
   "cell_type": "code",
   "execution_count": null,
   "metadata": {},
   "outputs": [],
   "source": [
    "for fd in flight_details:\n",
    "    trail = fd[\"trail\"]\n",
    "    lats = [point['lat'] for point in trail]\n",
    "    lngs = [point['lng'] for point in trail]\n",
    "\n",
    "    # Creating a Basemap instance\n",
    "    plt.figure(figsize=(12, 6))\n",
    "    # world_map = Basemap(projection='robin', lat_0=0, lon_0=0, resolution='c')\n",
    "    world_map = Basemap(projection='ortho', lat_0=trail[0]['lat'], lon_0=trail[0]['lng'], resolution='c')\n",
    "\n",
    "    # Converting lat and lon to map projection coordinates for the world map\n",
    "    x_world, y_world = world_map(lngs, lats)\n",
    "\n",
    "    # Plotting the points on the world map\n",
    "    world_map.plot(x_world, y_world, marker='o', markersize=5, color='b', linewidth=2)\n",
    "    world_map.scatter(x_world, y_world, marker='o', color='r', zorder=5)\n",
    "    world_map.drawcoastlines()\n",
    "    world_map.drawcountries()\n",
    "    world_map.fillcontinents(color='lightgray',lake_color='aqua')\n",
    "    world_map.drawmapboundary(fill_color='aqua')\n",
    "\n",
    "    # Adding title and showing the plot\n",
    "    plt.title(f'Flight Path on World Map for flight{fd[\"identification\"][\"number\"][\"default\"]} \\n Origin: {fd[\"airport\"][\"origin\"][\"code\"][\"iata\"]} - Destination: {fd[\"airport\"][\"destination\"][\"code\"][\"iata\"]}')\n",
    "    plt.show()"
   ]
  },
  {
   "cell_type": "code",
   "execution_count": null,
   "metadata": {},
   "outputs": [],
   "source": [
    "# Sadly this example is just a short route and therefore the projection is not very good"
   ]
  }
 ],
 "metadata": {
  "kernelspec": {
   "display_name": "Python 3",
   "language": "python",
   "name": "python3"
  },
  "language_info": {
   "codemirror_mode": {
    "name": "ipython",
    "version": 3
   },
   "file_extension": ".py",
   "mimetype": "text/x-python",
   "name": "python",
   "nbconvert_exporter": "python",
   "pygments_lexer": "ipython3",
   "version": "3.10.9"
  }
 },
 "nbformat": 4,
 "nbformat_minor": 2
}
